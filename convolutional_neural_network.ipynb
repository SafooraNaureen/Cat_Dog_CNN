{
 "cells": [
  {
   "cell_type": "markdown",
   "metadata": {
    "colab_type": "text",
    "id": "3DR-eO17geWu"
   },
   "source": [
    "# Convolutional Neural Network"
   ]
  },
  {
   "cell_type": "markdown",
   "metadata": {
    "colab_type": "text",
    "id": "EMefrVPCg-60"
   },
   "source": [
    "### Importing the libraries"
   ]
  },
  {
   "cell_type": "code",
   "execution_count": 1,
   "metadata": {
    "colab": {},
    "colab_type": "code",
    "id": "sCV30xyVhFbE",
    "scrolled": false
   },
   "outputs": [],
   "source": [
    "#!pip install keras"
   ]
  },
  {
   "cell_type": "code",
   "execution_count": 2,
   "metadata": {
    "colab": {},
    "colab_type": "code",
    "id": "sCV30xyVhFbE",
    "scrolled": false
   },
   "outputs": [],
   "source": [
    "#pip install pillow"
   ]
  },
  {
   "cell_type": "code",
   "execution_count": 3,
   "metadata": {
    "colab": {},
    "colab_type": "code",
    "id": "sCV30xyVhFbE",
    "scrolled": false
   },
   "outputs": [],
   "source": [
    "import tensorflow as tf\n",
    "from keras.preprocessing.image import ImageDataGenerator"
   ]
  },
  {
   "cell_type": "code",
   "execution_count": 4,
   "metadata": {
    "colab": {},
    "colab_type": "code",
    "id": "FIleuCAjoFD8"
   },
   "outputs": [
    {
     "data": {
      "text/plain": [
       "'2.3.0'"
      ]
     },
     "execution_count": 4,
     "metadata": {},
     "output_type": "execute_result"
    }
   ],
   "source": [
    "tf.__version__"
   ]
  },
  {
   "cell_type": "markdown",
   "metadata": {
    "colab_type": "text",
    "id": "oxQxCBWyoGPE"
   },
   "source": [
    "## Part 1 - Data Preprocessing"
   ]
  },
  {
   "cell_type": "markdown",
   "metadata": {
    "colab_type": "text",
    "id": "MvE-heJNo3GG"
   },
   "source": [
    "### Preprocessing the Training set"
   ]
  },
  {
   "cell_type": "code",
   "execution_count": 5,
   "metadata": {
    "colab": {},
    "colab_type": "code",
    "id": "0koUcJMJpEBD",
    "scrolled": true
   },
   "outputs": [
    {
     "name": "stdout",
     "output_type": "stream",
     "text": [
      "Found 8000 images belonging to 2 classes.\n"
     ]
    }
   ],
   "source": [
    "train_datagen = ImageDataGenerator(rescale=1./255,\n",
    "                                   shear_range=0.2,\n",
    "                                   zoom_range=0.2,\n",
    "                                   horizontal_flip=True)\n",
    "training_set = train_datagen.flow_from_directory('C:\\\\Users\\\\Safoora Naureen\\\\Desktop\\\\power bi\\\\Projects\\\\CNN\\\\dataset\\\\training_set',\n",
    "                                                     target_size=(64, 64),\n",
    "                                                     batch_size=32,\n",
    "                                                     class_mode='binary')"
   ]
  },
  {
   "cell_type": "markdown",
   "metadata": {
    "colab_type": "text",
    "id": "mrCMmGw9pHys"
   },
   "source": [
    "### Preprocessing the Test set"
   ]
  },
  {
   "cell_type": "code",
   "execution_count": 6,
   "metadata": {
    "colab": {},
    "colab_type": "code",
    "id": "SH4WzfOhpKc3"
   },
   "outputs": [
    {
     "name": "stdout",
     "output_type": "stream",
     "text": [
      "Found 2000 images belonging to 2 classes.\n"
     ]
    }
   ],
   "source": [
    "test_datagen = ImageDataGenerator(rescale=1./255)\n",
    "test_set = train_datagen.flow_from_directory('C:\\\\Users\\\\Safoora Naureen\\\\Desktop\\\\power bi\\\\Projects\\\\CNN\\\\dataset\\\\test_set',\n",
    "                                                     target_size=(64, 64),\n",
    "                                                     batch_size=32,\n",
    "                                                     class_mode='binary')"
   ]
  },
  {
   "cell_type": "markdown",
   "metadata": {
    "colab_type": "text",
    "id": "af8O4l90gk7B"
   },
   "source": [
    "## Part 2 - Building the CNN"
   ]
  },
  {
   "cell_type": "markdown",
   "metadata": {
    "colab_type": "text",
    "id": "ces1gXY2lmoX"
   },
   "source": [
    "### Initialising the CNN"
   ]
  },
  {
   "cell_type": "code",
   "execution_count": 7,
   "metadata": {
    "colab": {},
    "colab_type": "code",
    "id": "SAUt4UMPlhLS"
   },
   "outputs": [],
   "source": [
    "cnn = tf.keras.models.Sequential()"
   ]
  },
  {
   "cell_type": "markdown",
   "metadata": {
    "colab_type": "text",
    "id": "u5YJj_XMl5LF"
   },
   "source": [
    "### Step 1 - Convolution"
   ]
  },
  {
   "cell_type": "code",
   "execution_count": 8,
   "metadata": {
    "colab": {},
    "colab_type": "code",
    "id": "XPzPrMckl-hV"
   },
   "outputs": [],
   "source": [
    "cnn.add(tf.keras.layers.Conv2D(filters=32, kernel_size=3, activation='relu', input_shape=[64, 64, 3]))"
   ]
  },
  {
   "cell_type": "markdown",
   "metadata": {
    "colab_type": "text",
    "id": "tf87FpvxmNOJ"
   },
   "source": [
    "### Step 2 - Pooling"
   ]
  },
  {
   "cell_type": "code",
   "execution_count": 9,
   "metadata": {
    "colab": {},
    "colab_type": "code",
    "id": "ncpqPl69mOac"
   },
   "outputs": [],
   "source": [
    "cnn.add(tf.keras.layers.MaxPool2D(pool_size=2, strides=2))"
   ]
  },
  {
   "cell_type": "markdown",
   "metadata": {
    "colab_type": "text",
    "id": "xaTOgD8rm4mU"
   },
   "source": [
    "### Adding a second convolutional layer"
   ]
  },
  {
   "cell_type": "code",
   "execution_count": 10,
   "metadata": {
    "colab": {},
    "colab_type": "code",
    "id": "i_-FZjn_m8gk"
   },
   "outputs": [],
   "source": [
    "cnn.add(tf.keras.layers.Conv2D(filters=32, kernel_size=3, activation='relu'))\n",
    "cnn.add(tf.keras.layers.MaxPool2D(pool_size=2, strides=2))"
   ]
  },
  {
   "cell_type": "markdown",
   "metadata": {
    "colab_type": "text",
    "id": "tmiEuvTunKfk"
   },
   "source": [
    "### Step 3 - Flattening"
   ]
  },
  {
   "cell_type": "code",
   "execution_count": 11,
   "metadata": {
    "colab": {},
    "colab_type": "code",
    "id": "6AZeOGCvnNZn"
   },
   "outputs": [],
   "source": [
    "cnn.add(tf.keras.layers.Flatten())"
   ]
  },
  {
   "cell_type": "markdown",
   "metadata": {
    "colab_type": "text",
    "id": "dAoSECOm203v"
   },
   "source": [
    "### Step 4 - Full Connection"
   ]
  },
  {
   "cell_type": "code",
   "execution_count": 12,
   "metadata": {
    "colab": {},
    "colab_type": "code",
    "id": "8GtmUlLd26Nq"
   },
   "outputs": [],
   "source": [
    "cnn.add(tf.keras.layers.Dense(units=128, activation='relu'))"
   ]
  },
  {
   "cell_type": "markdown",
   "metadata": {
    "colab_type": "text",
    "id": "yTldFvbX28Na"
   },
   "source": [
    "### Step 5 - Output Layer"
   ]
  },
  {
   "cell_type": "code",
   "execution_count": 13,
   "metadata": {
    "colab": {},
    "colab_type": "code",
    "id": "1p_Zj1Mc3Ko_"
   },
   "outputs": [],
   "source": [
    "cnn.add(tf.keras.layers.Dense(units=1, activation='sigmoid'))"
   ]
  },
  {
   "cell_type": "markdown",
   "metadata": {
    "colab_type": "text",
    "id": "D6XkI90snSDl"
   },
   "source": [
    "## Part 3 - Training the CNN"
   ]
  },
  {
   "cell_type": "markdown",
   "metadata": {
    "colab_type": "text",
    "id": "vfrFQACEnc6i"
   },
   "source": [
    "### Compiling the CNN"
   ]
  },
  {
   "cell_type": "code",
   "execution_count": 14,
   "metadata": {
    "colab": {},
    "colab_type": "code",
    "id": "NALksrNQpUlJ"
   },
   "outputs": [],
   "source": [
    "cnn.compile(optimizer = 'adam', loss = 'binary_crossentropy', metrics = ['accuracy'])"
   ]
  },
  {
   "cell_type": "markdown",
   "metadata": {
    "colab_type": "text",
    "id": "ehS-v3MIpX2h"
   },
   "source": [
    "### Training the CNN on the Training set and evaluating it on the Test set"
   ]
  },
  {
   "cell_type": "code",
   "execution_count": 15,
   "metadata": {
    "colab": {},
    "colab_type": "code",
    "id": "XUj1W4PJptta",
    "scrolled": true
   },
   "outputs": [
    {
     "name": "stdout",
     "output_type": "stream",
     "text": [
      "Epoch 1/30\n",
      "250/250 [==============================] - 272s 1s/step - loss: 0.6689 - accuracy: 0.5891 - val_loss: 0.6253 - val_accuracy: 0.6490\n",
      "Epoch 2/30\n",
      "250/250 [==============================] - 108s 434ms/step - loss: 0.5924 - accuracy: 0.6791 - val_loss: 0.5596 - val_accuracy: 0.7190\n",
      "Epoch 3/30\n",
      "250/250 [==============================] - 58s 230ms/step - loss: 0.5501 - accuracy: 0.7140 - val_loss: 0.5689 - val_accuracy: 0.7105\n",
      "Epoch 4/30\n",
      "250/250 [==============================] - 57s 229ms/step - loss: 0.5206 - accuracy: 0.7398 - val_loss: 0.5235 - val_accuracy: 0.7465\n",
      "Epoch 5/30\n",
      "250/250 [==============================] - 57s 227ms/step - loss: 0.5010 - accuracy: 0.7462 - val_loss: 0.5016 - val_accuracy: 0.7710\n",
      "Epoch 6/30\n",
      "250/250 [==============================] - 59s 234ms/step - loss: 0.4743 - accuracy: 0.7699 - val_loss: 0.5632 - val_accuracy: 0.7260\n",
      "Epoch 7/30\n",
      "250/250 [==============================] - 57s 226ms/step - loss: 0.4619 - accuracy: 0.7776 - val_loss: 0.4901 - val_accuracy: 0.7740\n",
      "Epoch 8/30\n",
      "250/250 [==============================] - 62s 248ms/step - loss: 0.4534 - accuracy: 0.7818 - val_loss: 0.4751 - val_accuracy: 0.7890\n",
      "Epoch 9/30\n",
      "250/250 [==============================] - 58s 232ms/step - loss: 0.4263 - accuracy: 0.8011 - val_loss: 0.4863 - val_accuracy: 0.7675\n",
      "Epoch 10/30\n",
      "250/250 [==============================] - 221s 885ms/step - loss: 0.4221 - accuracy: 0.7997 - val_loss: 0.4764 - val_accuracy: 0.7790\n",
      "Epoch 11/30\n",
      "250/250 [==============================] - 307s 1s/step - loss: 0.4007 - accuracy: 0.8145 - val_loss: 0.4663 - val_accuracy: 0.7875\n",
      "Epoch 12/30\n",
      "250/250 [==============================] - 220s 880ms/step - loss: 0.3858 - accuracy: 0.8234 - val_loss: 0.4613 - val_accuracy: 0.7895\n",
      "Epoch 13/30\n",
      "250/250 [==============================] - 116s 466ms/step - loss: 0.3770 - accuracy: 0.8317 - val_loss: 0.4964 - val_accuracy: 0.7835\n",
      "Epoch 14/30\n",
      "250/250 [==============================] - 70s 280ms/step - loss: 0.3723 - accuracy: 0.8282 - val_loss: 0.4387 - val_accuracy: 0.8010\n",
      "Epoch 15/30\n",
      "250/250 [==============================] - 57s 228ms/step - loss: 0.3472 - accuracy: 0.8501 - val_loss: 0.4679 - val_accuracy: 0.7890\n",
      "Epoch 16/30\n",
      "250/250 [==============================] - 58s 232ms/step - loss: 0.3418 - accuracy: 0.8479 - val_loss: 0.5091 - val_accuracy: 0.7685\n",
      "Epoch 17/30\n",
      "250/250 [==============================] - 58s 231ms/step - loss: 0.3281 - accuracy: 0.8608 - val_loss: 0.4640 - val_accuracy: 0.8075\n",
      "Epoch 18/30\n",
      "250/250 [==============================] - 58s 233ms/step - loss: 0.3148 - accuracy: 0.8618 - val_loss: 0.4861 - val_accuracy: 0.7940\n",
      "Epoch 19/30\n",
      "250/250 [==============================] - 61s 243ms/step - loss: 0.3044 - accuracy: 0.8708 - val_loss: 0.4933 - val_accuracy: 0.7825\n",
      "Epoch 20/30\n",
      "250/250 [==============================] - 72s 287ms/step - loss: 0.2892 - accuracy: 0.8721 - val_loss: 0.4692 - val_accuracy: 0.7970\n",
      "Epoch 21/30\n",
      "250/250 [==============================] - 101s 405ms/step - loss: 0.2721 - accuracy: 0.8841 - val_loss: 0.4793 - val_accuracy: 0.8075\n",
      "Epoch 22/30\n",
      "250/250 [==============================] - 71s 285ms/step - loss: 0.2628 - accuracy: 0.8898 - val_loss: 0.4968 - val_accuracy: 0.7960\n",
      "Epoch 23/30\n",
      "250/250 [==============================] - 59s 235ms/step - loss: 0.2594 - accuracy: 0.8930 - val_loss: 0.4723 - val_accuracy: 0.8025\n",
      "Epoch 24/30\n",
      "250/250 [==============================] - 70s 282ms/step - loss: 0.2394 - accuracy: 0.9004 - val_loss: 0.5109 - val_accuracy: 0.7955\n",
      "Epoch 25/30\n",
      "250/250 [==============================] - 57s 228ms/step - loss: 0.2326 - accuracy: 0.9069 - val_loss: 0.5779 - val_accuracy: 0.7805\n",
      "Epoch 26/30\n",
      "250/250 [==============================] - 59s 236ms/step - loss: 0.2239 - accuracy: 0.9084 - val_loss: 0.5614 - val_accuracy: 0.8035\n",
      "Epoch 27/30\n",
      "250/250 [==============================] - 61s 245ms/step - loss: 0.2146 - accuracy: 0.9122 - val_loss: 0.5166 - val_accuracy: 0.8135\n",
      "Epoch 28/30\n",
      "250/250 [==============================] - 136s 544ms/step - loss: 0.2002 - accuracy: 0.9201 - val_loss: 0.5569 - val_accuracy: 0.7965\n",
      "Epoch 29/30\n",
      "250/250 [==============================] - 57s 227ms/step - loss: 0.1987 - accuracy: 0.9201 - val_loss: 0.5333 - val_accuracy: 0.7960\n",
      "Epoch 30/30\n",
      "250/250 [==============================] - 58s 231ms/step - loss: 0.1796 - accuracy: 0.9294 - val_loss: 0.6215 - val_accuracy: 0.7860\n"
     ]
    },
    {
     "data": {
      "text/plain": [
       "<tensorflow.python.keras.callbacks.History at 0x1eee54993d0>"
      ]
     },
     "execution_count": 15,
     "metadata": {},
     "output_type": "execute_result"
    }
   ],
   "source": [
    "max_epochs = 30\n",
    "\n",
    "#early_stopping = tf.keras.callbacks.EarlyStopping(patience = 2)\n",
    "\n",
    "cnn.fit(x = training_set, validation_data = test_set, epochs = max_epochs)"
   ]
  },
  {
   "cell_type": "markdown",
   "metadata": {
    "colab_type": "text",
    "id": "U3PZasO0006Z"
   },
   "source": [
    "## Part 4 - Making a single prediction"
   ]
  },
  {
   "cell_type": "code",
   "execution_count": 16,
   "metadata": {
    "colab": {},
    "colab_type": "code",
    "id": "gsSiWEJY1BPB"
   },
   "outputs": [],
   "source": [
    "import numpy as np\n",
    "from keras.preprocessing import image\n",
    "test_image = image.load_img('C:\\\\Users\\\\Safoora Naureen\\\\Desktop\\\\power bi\\\\Projects\\\\CNN\\\\dataset\\\\single_prediction\\\\cat_or_dog_1.jpg', target_size = (64,64))\n",
    "test_image = image.img_to_array(test_image)\n",
    "test_image = np.expand_dims(test_image, axis = 0)\n",
    "result = cnn.predict(test_image)\n",
    "training_set.class_indices\n",
    "if result[0][0] == 1:\n",
    "  prediction = 'dog'\n",
    "else:\n",
    "  prediction = 'cat'"
   ]
  },
  {
   "cell_type": "code",
   "execution_count": 17,
   "metadata": {
    "colab": {},
    "colab_type": "code",
    "id": "ED9KB3I54c1i"
   },
   "outputs": [
    {
     "name": "stdout",
     "output_type": "stream",
     "text": [
      "dog\n"
     ]
    }
   ],
   "source": [
    "print(prediction)"
   ]
  },
  {
   "cell_type": "code",
   "execution_count": 21,
   "metadata": {
    "scrolled": true
   },
   "outputs": [],
   "source": [
    "cnn.save('dog-cat-final-model.h5')"
   ]
  },
  {
   "cell_type": "code",
   "execution_count": null,
   "metadata": {},
   "outputs": [],
   "source": []
  }
 ],
 "metadata": {
  "colab": {
   "collapsed_sections": [],
   "name": "convolutional_neural_network.ipynb",
   "provenance": [],
   "toc_visible": true
  },
  "kernelspec": {
   "display_name": "Python 3",
   "language": "python",
   "name": "python3"
  },
  "language_info": {
   "codemirror_mode": {
    "name": "ipython",
    "version": 3
   },
   "file_extension": ".py",
   "mimetype": "text/x-python",
   "name": "python",
   "nbconvert_exporter": "python",
   "pygments_lexer": "ipython3",
   "version": "3.8.3"
  }
 },
 "nbformat": 4,
 "nbformat_minor": 1
}
